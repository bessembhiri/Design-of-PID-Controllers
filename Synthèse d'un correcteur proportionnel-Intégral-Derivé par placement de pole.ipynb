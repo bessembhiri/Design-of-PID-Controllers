{
 "cells": [
  {
   "cell_type": "code",
   "execution_count": 1,
   "id": "9c0c97f7",
   "metadata": {},
   "outputs": [
    {
     "name": "stdout",
     "output_type": "stream",
     "text": [
      "\n"
     ]
    }
   ],
   "source": [
    "format compact "
   ]
  },
  {
   "cell_type": "markdown",
   "id": "924c83ff",
   "metadata": {},
   "source": [
    "# I- Problème"
   ]
  },
  {
   "cell_type": "markdown",
   "id": "93159d40",
   "metadata": {},
   "source": [
    "Considérant un système dynamique défini par sa focntion de transfert en boucle ouverte suivante: \n",
    "$$ \\mathbf{G(s)} = \\frac{14}{(s+14)(s+2)(s+1.5)}  $$ "
   ]
  },
  {
   "cell_type": "markdown",
   "id": "fe3a7cf3",
   "metadata": {},
   "source": [
    "La réponse en boucle fermée du notre système, ne doit pas dépasser le $16\\%$ de la valeur finale. Le temps de réponse à $5\\%$ ne doit pas dépasser le $0.3$ secondes, tout en garantissant une erreur statique nulle pour une excitation en échelon."
   ]
  },
  {
   "cell_type": "markdown",
   "id": "6236cb0f",
   "metadata": {},
   "source": [
    "# II- Synthèse du correcteur et méthodologie"
   ]
  },
  {
   "cell_type": "markdown",
   "id": "99299e6a",
   "metadata": {},
   "source": [
    "D'abord, on note que le système est stable en boucle ouvert puisque ses deux poles sont réels strictement négatifs. Cependant le gain statique de notre système est différent de $\\mathbf{G(s)}=\\frac{14}{42}=0.33 \\neq 1$. D'où, la nécessité de synthétiser un correcteur comportant une action intégrale  pour garantir une erreur statique nulle en boucle fermée, tout en respectant les containtes sur le régime transitoire imposée par cette meme cahier de  charge. On choisit de synthétiser un correcteur Proportionnel-Intégrale-Dérivé (PID). D'où la forme de notre correcteur: \n",
    "$$C(s)=K_p(1+\\frac{1}{T_is}+T_ds), K_p \\gt 0, T_i \\gt 0$$\n",
    "\n",
    "On commence par traduire le cahier de charge en une focntion de transfert de seconde ordre traduisant le comportement souhaité du système en boucle fermée."
   ]
  },
  {
   "cell_type": "markdown",
   "id": "19401c74",
   "metadata": {},
   "source": [
    "## II-1 Fonction du transfert souhaitée en boucle fermée."
   ]
  },
  {
   "cell_type": "markdown",
   "id": "8c53409c",
   "metadata": {},
   "source": [
    "### II-1-1 Calcul de la Fonction de transfert de réference"
   ]
  },
  {
   "cell_type": "markdown",
   "id": "27d3d2e9",
   "metadata": {},
   "source": [
    "La fonction de transfert en boucle fermée, est alors choisie du 2éme ordre, en espérant que ses deux poles (conjuguées) seront les poles dominants. Cette fonction de transfert peut s'écrire sous cette forme:\n",
    "$$\\mathbf{{F_{ref}}(s)} = \\frac{w_{n}^{2}}{s^2+2 \\zeta w_n + w_{n}^{2}} $$\n",
    "avec:\n",
    "-  $\\zeta$ est le coeficient d'amortissemnt. Généralemnt, $0 \\lt \\zeta \\lt 1$ pour garantir que la réponse du système en boucle fermée est pseudo-oscillante ou oscillante-amortie.\n",
    "- $w_n \\gt 0$  est la pulsation naturelle du système. "
   ]
  },
  {
   "cell_type": "markdown",
   "id": "31a78490",
   "metadata": {},
   "source": [
    "Dans ce cas le pair des poles conjuguées est donnée par:\n",
    "$$ s_{1,2} = -\\zeta w_n \\pm j w_n \\sqrt{1-\\zeta^2}$$"
   ]
  },
  {
   "cell_type": "markdown",
   "id": "a98520ee",
   "metadata": {},
   "source": [
    "Il est claire d'aprés la forme générale ( indépendament des valeurs de $\\zeta$ et $w_n$) de notre fonction du transfert en boucle fermée que le gain statique vaut exactement $1$, c'ad $\\mathbf{F(0)} = \\frac{w_{n}^{2}}{ w_{n}^{2}} = 1 $, ce qui garantit une erreur statique nulle en poursuite d'une consigne échelon. Il reste à déterminer $\\zeta$ et $w_n$ en fonction de dépassment et du temps de réponse imposés par le cahier de charge.\n",
    "\n",
    "Rappelons quelques formules utiles pour un système du second ordre à réponse pseudo oscillante:\n",
    "\n",
    "- le temps $t_p$du premier dépassemnt est donnée par $$t_p = \\frac {\\pi}{w_n \\sqrt{1-\\zeta^2}}$$\n",
    "- $w_p$ pulsation du pseudo oscillation: $$w_p = w_n \\sqrt{1-\\zeta^2} $$ \n",
    "- $T_p$ pseudo_période, $$T_p=2t_p=\\frac {2\\pi}{w_n \\sqrt{1-\\zeta^2}}=\\frac {2\\pi}{w_p}$$\n",
    "- $D_{\\%}$ : premier dépassment en pourcentage,\n",
    "$$D_{\\%} = 100 \\quad e^{\\frac{-\\pi \\zeta}{\\sqrt{1-\\zeta^2}}}$$"
   ]
  },
  {
   "cell_type": "markdown",
   "id": "c0681a39",
   "metadata": {},
   "source": [
    "La donnée du premier dépassemnt permet de calculer le coeffcient d'amortissemnt $\\zeta$: dans notre cas un dépassemnt de $D=0.16$ correspond à un $\\zeta=0.7$ (calcul approchée)"
   ]
  },
  {
   "cell_type": "markdown",
   "id": "4ad52047",
   "metadata": {},
   "source": [
    "Il reste à déterminer $w_n$, on aura recours à l'abaque jointe donnant le temps de réponse réduit à $tr_{5\\%}w_n$ en fonction du coefficient d'amortissemnt $\\zeta$. La lecture de cette abaque, pour $\\zeta=0.7\n",
    "$ nous fournit la valeur $tr_{5\\%}w_n=3$, et on déduit $w_n=\\frac{3}{0.3}=10$ $\\text{rad/s}$"
   ]
  },
  {
   "cell_type": "markdown",
   "id": "9ac0f73b",
   "metadata": {},
   "source": [
    "notre focntion du transfert de réference est la suivante:\n",
    "$$\\mathbf{{F_{ref}}(s)} = \\frac{100}{s^2+14 s+ 100} $$"
   ]
  },
  {
   "cell_type": "markdown",
   "id": "3807a79b",
   "metadata": {},
   "source": [
    "Regardant maintenant comment on peut déterminer $K_p$ et $T_i$ en fonction des valeurs $\\zeta$ et $w_n$"
   ]
  },
  {
   "cell_type": "markdown",
   "id": "4ac0aca7",
   "metadata": {},
   "source": [
    "### II-1-2 Calcul de K_p, Td, T_i"
   ]
  },
  {
   "cell_type": "markdown",
   "id": "1c158638",
   "metadata": {},
   "source": [
    "Pour le calcul de ce deux inconnues, commençant par rearranger la fonction du transfert de notre correcteur:\n",
    "    $$ \\mathbf{C(s)} = K_pT_d\\frac{s^2+\\frac{1}{T_d}s+\\frac{1}{T_dT_i}}{s}  $$ "
   ]
  },
  {
   "cell_type": "markdown",
   "id": "4d5144a4",
   "metadata": {},
   "source": [
    "de la meme la fonction du transfert du système peut se mettre sous cette forme:\n",
    "$$ \\mathbf{G(s)} = \\frac{14}{(s+14)(s^2+3.5s+3)}  $$ "
   ]
  },
  {
   "cell_type": "markdown",
   "id": "c43025e2",
   "metadata": {},
   "source": [
    "Et notre fonction du transfert en boucle fermée peut s'écrire maintenant:\n",
    "$$ \\mathbf{F(s)} = \\frac{C(s)G(s)}{1+C(s)G(s)}  $$ "
   ]
  },
  {
   "cell_type": "markdown",
   "id": "7f0dc263",
   "metadata": {},
   "source": [
    "soit en remplaçant,\n",
    "$$ \\mathbf{F(s)} = \\frac{\\frac{14K_pT_d(s^2+\\frac{1}{T_d}s+\\frac{1}{T_dT_i})}{s(s+14)(s^2+3.5s+3)}}{1+\\frac{14K_pT_d(s^2+\\frac{1}{T_d}s+\\frac{1}{T_dT_i})}{s(s+14)(s^2+3.5s+3)}}  $$ "
   ]
  },
  {
   "cell_type": "markdown",
   "id": "e93857f4",
   "metadata": {},
   "source": [
    "on Choisit de compenser les deux poles $s_1=-2$ et $s_2=-1.5$ qui correspond à  ce qui équivaut à imposer $$s^2+\\frac{1}{T_d}s+\\frac{1}{T_dT_i}=s^2+3.5s+3$$"
   ]
  },
  {
   "cell_type": "markdown",
   "id": "50efdd9c",
   "metadata": {},
   "source": [
    "Aprés simplification, on obtien:\n",
    "$$ \\mathbf{F(s)} = \\frac{14K_pT_d}{s^2+14s+14K_pT_d}  $$.\n",
    "\n",
    "On peut aller plus loin en imposant, $\\mathbf{F(s)} = \\mathbf{{F_{ref}}(s)}$, et on déduit :\n",
    "\n",
    "$$14K_pT_d=100$$"
   ]
  },
  {
   "cell_type": "markdown",
   "id": "7c35b94b",
   "metadata": {},
   "source": [
    "les deux équations $14$ et $16$, nous permettent de déduire les valeurs cherchées de $K_p=25$, $T_d=0.28$ et $T_i=1.67$"
   ]
  },
  {
   "cell_type": "markdown",
   "id": "e5880548",
   "metadata": {},
   "source": [
    "### II-1-3 Version finale de notre correcteur"
   ]
  },
  {
   "cell_type": "markdown",
   "id": "d09820bd",
   "metadata": {},
   "source": [
    "Le synthèse de notre corretceur PID, n'est pas fini, en fait le correcteur PID sosu cette forme est irréalisable physiquement, puisque il n'est pas causale.\n",
    "Une solution consite à filtrer l'action dérivée avec un filtre passe-bas. Ca consite à l'ajout d'un pole, dont en prends le soin qu'il soit négligeable par rapport aux poles de la fonction du transfert en bouvle fermée. La forme de notre correcteur aura cette forme:\n",
    "$$\\mathbf{C(s)}=K_p(1+\\frac{1}{T_is}+\\frac{T_ds}{1+\\frac{T_ds}{N}})$$ \n",
    "\n",
    "Avec: $N$ une constante de Filtrage\n",
    "Pour les simulatioons on fait le choix de $N=32$"
   ]
  },
  {
   "cell_type": "markdown",
   "id": "aa1ce884",
   "metadata": {},
   "source": [
    "# III- Simulations \n",
    "## III -1 En boucle Ouvert"
   ]
  },
  {
   "cell_type": "code",
   "execution_count": 2,
   "id": "be406f6b",
   "metadata": {},
   "outputs": [
    {
     "name": "stdout",
     "output_type": "stream",
     "text": [
      "\n",
      "g =\n",
      " \n",
      "              14\n",
      "  --------------------------\n",
      "  s^3 + 17.5 s^2 + 52 s + 42\n",
      " \n",
      "Continuous-time transfer function.\n",
      "\n",
      "\n"
     ]
    }
   ],
   "source": [
    "g=tf([14],[1,17.5,52,42])"
   ]
  },
  {
   "cell_type": "code",
   "execution_count": 3,
   "id": "96843708",
   "metadata": {},
   "outputs": [
    {
     "name": "stdout",
     "output_type": "stream",
     "text": [
      "\n"
     ]
    },
    {
     "data": {
      "image/png": "[encoded data removed]",
      "text/plain": [
       "<IPython.core.display.Image object>"
      ]
     },
     "metadata": {},
     "output_type": "display_data"
    }
   ],
   "source": [
    "t=0:0.1:10;\n",
    "y=step(g,t);\n",
    "plot(t,y)\n",
    "grid on"
   ]
  },
  {
   "cell_type": "markdown",
   "id": "a49620fe",
   "metadata": {},
   "source": [
    "## III-1 En boucle fermée"
   ]
  },
  {
   "cell_type": "markdown",
   "id": "1ea90b27",
   "metadata": {},
   "source": [
    "la fonction Matlab $pidstd$ permet d'obtenir le correcteur avec les parametres calculées. \n"
   ]
  },
  {
   "cell_type": "code",
   "execution_count": 4,
   "id": "3340b632",
   "metadata": {},
   "outputs": [
    {
     "name": "stdout",
     "output_type": "stream",
     "text": [
      "\n",
      "PI =\n",
      " \n",
      "  825 s^2 + 2872 s + 1711\n",
      "  -----------------------\n",
      "       s^2 + 114.3 s\n",
      " \n",
      "Continuous-time transfer function.\n",
      "\n",
      "\n"
     ]
    }
   ],
   "source": [
    "PI = tf(pidstd(25,1.67,0.28,32)) "
   ]
  },
  {
   "cell_type": "markdown",
   "id": "fced2f6e",
   "metadata": {},
   "source": [
    "la fonction minreal de matlab permet d'obtenir la simplification de la fonction du transfert (version minimale aprés simplification de zeros/poles). Elle n'est pas toujours efficace."
   ]
  },
  {
   "cell_type": "code",
   "execution_count": 5,
   "id": "0c374874",
   "metadata": {},
   "outputs": [
    {
     "name": "stdout",
     "output_type": "stream",
     "text": [
      "\n",
      "f1 =\n",
      " \n",
      "                  11550 s^2 + 4.021e04 s + 2.395e04\n",
      "  -----------------------------------------------------------------\n",
      "  s^5 + 131.8 s^4 + 2052 s^3 + 1.753e04 s^2 + 4.501e04 s + 2.395e04\n",
      " \n",
      "Continuous-time transfer function.\n",
      "\n",
      "\n"
     ]
    }
   ],
   "source": [
    "f1= minreal((PI*g)/(1+PI*g))"
   ]
  },
  {
   "cell_type": "code",
   "execution_count": 6,
   "id": "8a680fc1",
   "metadata": {},
   "outputs": [
    {
     "name": "stdout",
     "output_type": "stream",
     "text": [
      "\n"
     ]
    },
    {
     "data": {
      "image/png": "[encoded data removed]",
      "text/plain": [
       "<IPython.core.display.Image object>"
      ]
     },
     "metadata": {},
     "output_type": "display_data"
    }
   ],
   "source": [
    "t=0:0.01:3;\n",
    "y=step(f1,t);\n",
    "plot(t,y)\n",
    "grid on"
   ]
  },
  {
   "cell_type": "code",
   "execution_count": 7,
   "id": "2a158cf2",
   "metadata": {},
   "outputs": [
    {
     "name": "stdout",
     "output_type": "stream",
     "text": [
      "S = \n",
      "  struct with fields:\n",
      "\n",
      "        RiseTime: 0.2017\n",
      "    SettlingTime: 0.2836\n",
      "     SettlingMin: 0.9106\n",
      "     SettlingMax: 1.0495\n",
      "       Overshoot: 4.9471\n",
      "      Undershoot: 0\n",
      "            Peak: 1.0495\n",
      "        PeakTime: 0.4143\n",
      "\n"
     ]
    }
   ],
   "source": [
    "S = stepinfo(f1,'SettlingTimeThreshold',0.05)"
   ]
  },
  {
   "cell_type": "markdown",
   "id": "76b387dc",
   "metadata": {},
   "source": [
    "# IV- Conclusion"
   ]
  },
  {
   "cell_type": "markdown",
   "id": "f4a10dd1",
   "metadata": {},
   "source": [
    "Avec un correcteur PID, on arrive à satisfaire le cahier de charge."
   ]
  }
 ],
 "metadata": {
  "kernelspec": {
   "display_name": "Matlab (Connection)",
   "language": "matlab",
   "name": "matlab_connect"
  },
  "language_info": {
   "codemirror_mode": "octave",
   "file_extension": ".m",
   "help_links": [
    {
     "text": "MetaKernel Magics",
     "url": "https://metakernel.readthedocs.io/en/latest/source/README.html"
    }
   ],
   "mimetype": "text/x-octave",
   "name": "matlab",
   "version": "0.17.1"
  },
  "latex_envs": {
   "LaTeX_envs_menu_present": true,
   "autoclose": true,
   "autocomplete": true,
   "bibliofile": "biblio.bib",
   "cite_by": "apalike",
   "current_citInitial": 1,
   "eqLabelWithNumbers": true,
   "eqNumInitial": 1,
   "hotkeys": {
    "equation": "Ctrl-E",
    "itemize": "Ctrl-I"
   },
   "labels_anchors": false,
   "latex_user_defs": false,
   "report_style_numbering": false,
   "user_envs_cfg": true
  }
 },
 "nbformat": 4,
 "nbformat_minor": 5
}
