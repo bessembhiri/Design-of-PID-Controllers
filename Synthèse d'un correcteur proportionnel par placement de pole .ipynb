{
 "cells": [
  {
   "cell_type": "markdown",
   "id": "4d7fe6b1",
   "metadata": {},
   "source": [
    "# I- Problème"
   ]
  },
  {
   "cell_type": "markdown",
   "id": "517b93b0",
   "metadata": {},
   "source": [
    "Considérant un système dynamique défini par sa focntion de transfert en boucle ouverte suivante: \n",
    "$$ \\mathbf{G(s)} = \\frac{1}{s(s+2)}  $$ "
   ]
  },
  {
   "cell_type": "markdown",
   "id": "5fd07f30",
   "metadata": {},
   "source": [
    "La réponse en boucle fermée du notre système, ne doit pas dépasser le $16\\%$ de la valeur finale. Le temps de réponse à $5\\%$ ne doit pas dépasser le $0.3$ secondes, tout en garantissant une erreur statique nulle pour une excitation en échelon."
   ]
  },
  {
   "cell_type": "markdown",
   "id": "e48a11f2",
   "metadata": {},
   "source": [
    "# II- Synthèse du correcteur et méthodologie"
   ]
  },
  {
   "cell_type": "markdown",
   "id": "5dc59ae1",
   "metadata": {},
   "source": [
    "D'abord, on note que le système est instable en boucle ouvert puisque, il comporte un intégrateur. D'où, la nécessité de synthétiser un correcteur pour garantir la stabilité du système en boucle fermée.\n",
    "Toutefois, pour un problème de poursuite d'une consigne en échelon on n'as pas besoin de synthétiser un correcteur avec une action intégrale. On va essayer de synthétiser un correcteur comportant uniquement une action proportionnel $C(s)=K, K \\gt 0$.\n",
    "\n",
    "On commence par traduire le cahier de charge en une focntion de transfert de seconde ordre traduisant le comportement souhaité du système en boucle fermée."
   ]
  },
  {
   "cell_type": "markdown",
   "id": "67c7a95c",
   "metadata": {},
   "source": [
    "## II-1 Fonction du transfert souhaitée en boucle fermée."
   ]
  },
  {
   "cell_type": "markdown",
   "id": "b1cc7afb",
   "metadata": {},
   "source": [
    "### II-1-1 Calcul de la Fonction de transfert de réference"
   ]
  },
  {
   "cell_type": "markdown",
   "id": "811d31b8",
   "metadata": {},
   "source": [
    "La fonction de transfert en boucle fermée, est alors choisie du 2éme ordre, en espérant que ses deux poles (conjuguées) seront les poles dominants. Cette fonction de transfert peut s'écrire sous cette forme:\n",
    "$$\\mathbf{{F_{ref}}(s)} = \\frac{w_{n}^{2}}{s^2+2 \\zeta w_n + w_{n}^{2}} $$\n",
    "avec:\n",
    "-  $\\zeta$ est le coeficient d'amortissemnt. Généralemnt, $0 \\lt \\zeta \\lt 1$ pour garantir que la réponse du système en boucle fermée est pseudo-oscillante ou oscillante-amortie.\n",
    "- $w_n \\gt 0$  est la pulsation naturelle du système. "
   ]
  },
  {
   "cell_type": "markdown",
   "id": "23249c55",
   "metadata": {},
   "source": [
    "Dans ce cas le pair des poles conjuguées est donnée par:\n",
    "$$ s_{1,2} = -\\zeta w_n \\pm j w_n \\sqrt{1-\\zeta^2}$$"
   ]
  },
  {
   "cell_type": "markdown",
   "id": "6d3e5714",
   "metadata": {},
   "source": [
    "Il est claire d'aprés la forme générale ( indépendament des valeurs de $\\zeta$ et $w_n$) de notre fonction du transfert en boucle fermée que le gain statique vaut exactement $1$, c'ad $\\mathbf{F(0)} = \\frac{w_{n}^{2}}{ w_{n}^{2}} = 1 $, ce qui garantit une erreur statique nulle en poursuite d'une consigne échelon. Il reste à déterminer $\\zeta$ et $w_n$ en fonction de dépassment et du temps de réponse imposés par le cahier de charge.\n",
    "\n",
    "Rappelons quelques formules utiles pour un système du second ordre à réponse pseudo oscillante:\n",
    "\n",
    "- le temps $t_p$du premier dépassemnt est donnée par $$t_p = \\frac {\\pi}{w_n \\sqrt{1-\\zeta^2}}$$\n",
    "- $w_p$ pulsation du pseudo oscillation: $$w_p = w_n \\sqrt{1-\\zeta^2} $$ \n",
    "- $T_p$ pseudo_période, $$T_p=2t_p=\\frac {2\\pi}{w_n \\sqrt{1-\\zeta^2}}=\\frac {2\\pi}{w_p}$$\n",
    "- $D_{\\%}$ : premier dépassment en pourcentage,\n",
    "$$D_{\\%} = 100 \\quad e^{\\frac{-\\pi \\zeta}{\\sqrt{1-\\zeta^2}}}$$"
   ]
  },
  {
   "cell_type": "markdown",
   "id": "2af65d0a",
   "metadata": {},
   "source": [
    "La donnée du premier dépassemnt permet de calculer le coeffcient d'amortissemnt $\\zeta$: dans notre cas un dépassemnt de $D=0.16$ correspond à un $\\zeta=0.7$ (calcul approchée)"
   ]
  },
  {
   "cell_type": "markdown",
   "id": "6d214d78",
   "metadata": {},
   "source": [
    "Il reste à déterminer $w_n$, on aura recours à l'abaque jointe donnant le temps de réponse réduit à $tr_{5\\%}w_n$ en fonction du coefficient d'amortissemnt $\\zeta$. La lecture de cette abaque, pour $\\zeta=0.7\n",
    "$ nous fournit la valeur $tr_{5\\%}w_n=3$, et on déduit $w_n=\\frac{3}{0.3}=10$ $\\text{rad/s}$"
   ]
  },
  {
   "cell_type": "markdown",
   "id": "780e1720",
   "metadata": {},
   "source": [
    "notre focntion du transfert de réference est la suivante:\n",
    "$$\\mathbf{{F_{ref}}(s)} = \\frac{100}{s^2+14 s+ 100} $$"
   ]
  },
  {
   "cell_type": "markdown",
   "id": "b34b55c3",
   "metadata": {},
   "source": [
    "Regardant maintenant comment on peut déterminer $K$ en fonction des valeurs $\\zeta$ et $w_n$"
   ]
  },
  {
   "cell_type": "markdown",
   "id": "8f3ec1cc",
   "metadata": {},
   "source": [
    "### II-1-2 Calcul de K"
   ]
  },
  {
   "cell_type": "markdown",
   "id": "f23ee992",
   "metadata": {},
   "source": [
    "On doit satisfaire l'égalité entre la fonction du transfert du système réel en boucle fermée et notre fonction de transfert de réference (fonction de transfert déduite depuis notre cahier de charge imposé):\n",
    "$$\\frac{K}{K+s(s+2)}=\\frac{w_{n}^{2}}{s^2+2 \\zeta w_n + w_{n}^{2}}$$"
   ]
  },
  {
   "cell_type": "markdown",
   "id": "2225ddef",
   "metadata": {},
   "source": [
    "En développant on obtient:\n",
    "- $K=w_{n}^2$ et\n",
    "- $\\zeta w_n =1$\n",
    "\n",
    "Vu que $\\zeta$ et $w_n$ sont liées, on ne peut pas satisfaire simultanément les deux points de notre cahier de charge portant sur la rapidité réglable par le choix de $w_n$, et sur le dépassment réglable par $\\zeta$, avec un simple correcteur proportionnel."
   ]
  },
  {
   "cell_type": "markdown",
   "id": "5808e419",
   "metadata": {},
   "source": [
    "- Si on choisit d'essayer de  garantir, la rapidité, dans ce cas, on aura $K=w_n^2=100$\n",
    "- Si on essaie un seuil sur le dépassment, on aura  $K=\\frac{1}{\\zeta^2}= 2.04$"
   ]
  },
  {
   "cell_type": "markdown",
   "id": "96a7475f",
   "metadata": {},
   "source": [
    "# III- Simulations \n",
    "## III -1 En boucle Ouvert"
   ]
  },
  {
   "cell_type": "code",
   "execution_count": 2,
   "id": "6384b82e",
   "metadata": {},
   "outputs": [
    {
     "name": "stdout",
     "output_type": "stream",
     "text": [
      "\n",
      "g =\n",
      " \n",
      "      1\n",
      "  ---------\n",
      "  s^2 + 2 s\n",
      " \n",
      "Continuous-time transfer function.\n",
      "\n",
      "\n"
     ]
    }
   ],
   "source": [
    "g=tf([1],[1,2,0])"
   ]
  },
  {
   "cell_type": "code",
   "execution_count": 3,
   "id": "de340cae",
   "metadata": {},
   "outputs": [
    {
     "name": "stdout",
     "output_type": "stream",
     "text": [
      "\n"
     ]
    },
    {
     "data": {
      "image/png": "[encoded data removed]",
      "text/plain": [
       "<IPython.core.display.Image object>"
      ]
     },
     "metadata": {},
     "output_type": "display_data"
    }
   ],
   "source": [
    "t=0:0.1:10;\n",
    "y=step(g,t);\n",
    "plot(t,y)\n",
    "grid on\n"
   ]
  },
  {
   "cell_type": "markdown",
   "id": "6692a854",
   "metadata": {},
   "source": [
    "## III-1 En boucle fermée"
   ]
  },
  {
   "cell_type": "markdown",
   "id": "d5550a79",
   "metadata": {},
   "source": [
    "### III-1-1 pour $K=100$\n"
   ]
  },
  {
   "cell_type": "code",
   "execution_count": 4,
   "id": "c3c54923",
   "metadata": {},
   "outputs": [
    {
     "name": "stdout",
     "output_type": "stream",
     "text": [
      "\n",
      "f1 =\n",
      " \n",
      "        100\n",
      "  ---------------\n",
      "  s^2 + 2 s + 100\n",
      " \n",
      "Continuous-time transfer function.\n",
      "\n",
      "\n"
     ]
    }
   ],
   "source": [
    "f1=tf([100],[1,2,100])"
   ]
  },
  {
   "cell_type": "code",
   "execution_count": 5,
   "id": "fe1d9840",
   "metadata": {},
   "outputs": [
    {
     "name": "stdout",
     "output_type": "stream",
     "text": [
      "\n"
     ]
    },
    {
     "data": {
      "image/png": "[encoded data removed]",
      "text/plain": [
       "<IPython.core.display.Image object>"
      ]
     },
     "metadata": {},
     "output_type": "display_data"
    }
   ],
   "source": [
    "t=0:0.01:3;\n",
    "y=step(f1,t);\n",
    "plot(t,y)\n",
    "grid on"
   ]
  },
  {
   "cell_type": "code",
   "execution_count": 6,
   "id": "ab5aa82c",
   "metadata": {},
   "outputs": [
    {
     "name": "stdout",
     "output_type": "stream",
     "text": [
      "S = \n",
      "  struct with fields:\n",
      "\n",
      "        RiseTime: 0.1127\n",
      "    SettlingTime: 2.8957\n",
      "     SettlingMin: 0.4685\n",
      "     SettlingMax: 1.7292\n",
      "       Overshoot: 72.9156\n",
      "      Undershoot: 0\n",
      "            Peak: 1.7292\n",
      "        PeakTime: 0.3142\n",
      "\n"
     ]
    }
   ],
   "source": [
    "S = stepinfo(f1,'SettlingTimeThreshold',0.05)"
   ]
  },
  {
   "cell_type": "markdown",
   "id": "7b5526fc",
   "metadata": {},
   "source": [
    "Pour $K=100$, la réponse du système en boucle fermée est trés pseudo oscillatoire, cela est dit à la faible conséquent valeur de $\\zeta=\\frac{1}{10}=0.1$"
   ]
  },
  {
   "cell_type": "markdown",
   "id": "ec7b5778",
   "metadata": {},
   "source": [
    "### III-1-2 Pour K= 2.04"
   ]
  },
  {
   "cell_type": "code",
   "execution_count": 7,
   "id": "d1900676",
   "metadata": {},
   "outputs": [
    {
     "name": "stdout",
     "output_type": "stream",
     "text": [
      "\n",
      "f2 =\n",
      " \n",
      "        2.041\n",
      "  -----------------\n",
      "  s^2 + 2 s + 2.041\n",
      " \n",
      "Continuous-time transfer function.\n",
      "\n",
      "\n"
     ]
    },
    {
     "data": {
      "image/png": "[encoded data removed]",
      "text/plain": [
       "<IPython.core.display.Image object>"
      ]
     },
     "metadata": {},
     "output_type": "display_data"
    }
   ],
   "source": [
    "f2=tf([(1/0.7)^2],[1,2,(1/0.7)^2])\n",
    "t=0:0.01:10;\n",
    "y=step(f2,t);\n",
    "plot(t,y)\n",
    "grid on"
   ]
  },
  {
   "cell_type": "code",
   "execution_count": 8,
   "id": "9960ce57",
   "metadata": {},
   "outputs": [
    {
     "name": "stdout",
     "output_type": "stream",
     "text": [
      "S = \n",
      "  struct with fields:\n",
      "\n",
      "        RiseTime: 1.4888\n",
      "    SettlingTime: 2.0300\n",
      "     SettlingMin: 0.9001\n",
      "     SettlingMax: 1.0460\n",
      "       Overshoot: 4.5986\n",
      "      Undershoot: 0\n",
      "            Peak: 1.0460\n",
      "        PeakTime: 3.0855\n",
      "\n"
     ]
    }
   ],
   "source": [
    "S = stepinfo(f2,'SettlingTimeThreshold',0.05)"
   ]
  },
  {
   "cell_type": "markdown",
   "id": "20b5f2d6",
   "metadata": {},
   "source": [
    "la contrainte sur le dépassement (overshoot) est bien staisfaite, puisque $4.59 \\lt 10$. Cependant on ne garantit pas la contarinte de rapidité: le SettlingTime $2.03$ est supérieur à $0.3$. "
   ]
  },
  {
   "cell_type": "markdown",
   "id": "73b11ed3",
   "metadata": {},
   "source": [
    "# IV- Conclusion\n",
    "Avec un correcteur proportionnel, on n'arrive pas à satisfaire à la fois la contrainte sur la rapidité et celle surt le dépassemnt. Ceci nous amener à investiguer d'autres structures de PID comme, le PD, PI,et le PID."
   ]
  }
 ],
 "metadata": {
  "kernelspec": {
   "display_name": "Matlab (Connection)",
   "language": "matlab",
   "name": "matlab_connect"
  },
  "language_info": {
   "codemirror_mode": "octave",
   "file_extension": ".m",
   "help_links": [
    {
     "text": "MetaKernel Magics",
     "url": "https://metakernel.readthedocs.io/en/latest/source/README.html"
    }
   ],
   "mimetype": "text/x-octave",
   "name": "matlab",
   "version": "0.17.1"
  },
  "latex_envs": {
   "LaTeX_envs_menu_present": true,
   "autoclose": true,
   "autocomplete": true,
   "bibliofile": "biblio.bib",
   "cite_by": "apalike",
   "current_citInitial": 1,
   "eqLabelWithNumbers": true,
   "eqNumInitial": 1,
   "hotkeys": {
    "equation": "Ctrl-E",
    "itemize": "Ctrl-I"
   },
   "labels_anchors": false,
   "latex_user_defs": false,
   "report_style_numbering": false,
   "user_envs_cfg": true
  }
 },
 "nbformat": 4,
 "nbformat_minor": 5
}
