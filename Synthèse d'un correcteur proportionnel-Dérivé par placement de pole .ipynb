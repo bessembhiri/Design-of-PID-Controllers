{
 "cells": [
  {
   "cell_type": "code",
   "execution_count": 1,
   "id": "3e54ab6a",
   "metadata": {},
   "outputs": [
    {
     "name": "stdout",
     "output_type": "stream",
     "text": [
      "\n"
     ]
    }
   ],
   "source": [
    "format compact "
   ]
  },
  {
   "cell_type": "markdown",
   "id": "71fa5f3f",
   "metadata": {},
   "source": [
    "# I- Problème"
   ]
  },
  {
   "cell_type": "markdown",
   "id": "89e331f9",
   "metadata": {},
   "source": [
    "Considérant un système dynamique défini par sa focntion de transfert en boucle ouverte suivante: \n",
    "$$ \\mathbf{G(s)} = \\frac{1}{s(s+2)}  $$ "
   ]
  },
  {
   "cell_type": "markdown",
   "id": "0b576411",
   "metadata": {},
   "source": [
    "La réponse en boucle fermée du notre système, ne pésente pas de dépassement. Le temps de réponse à $5\\%$ ne doit pas dépasser le $0.2$ secondes, tout en garantissant une erreur statique nulle pour une excitation en échelon."
   ]
  },
  {
   "cell_type": "markdown",
   "id": "645a0d28",
   "metadata": {},
   "source": [
    "# II- Synthèse du correcteur et méthodologie"
   ]
  },
  {
   "cell_type": "markdown",
   "id": "c388ced8",
   "metadata": {},
   "source": [
    "D'abord, on note que le système est instable en boucle ouvert puisque, il comporte un intégrateur. D'où, la nécessité de synthétiser un correcteur pour garantir la stabilité du système en boucle fermée.\n",
    "Toutefois, pour un problème de poursuite d'une consigne en échelon on n'as pas besoin de synthétiser un correcteur avec une action intégrale.\n",
    "\n",
    "On va essayer de synthétiser un correcteur (PD) Proportionnel-Dérivateur $C(s)=K_p(1+T_ds), K_p \\gt 0, T_d \\gt 0$.\n",
    "\n",
    "On commence par traduire le cahier de charge en une focntion de transfert  traduisant le comportement souhaité du système en boucle fermée. Le cahier de charge stipule une réponse sans dépassment. Une fonction de transfert du premier ordre garantit une réponse en boucle fermée sans dépassement, soit:\n",
    "$$\\mathbf{{F_{ref}}(s)} = \\frac{k}{1+\\tau s} $$\n"
   ]
  },
  {
   "cell_type": "markdown",
   "id": "951c6d54",
   "metadata": {},
   "source": [
    "L'erreur statique nulle souhaitée impose un gain statique de valeur $k=1$, de la focntion du transfert de reference.\n",
    "Il reste à calculer $\\tau$, la constante du temps à partir du temps de réponse desirée.\n",
    "On sait que pour un système du premier ordre on a $tr_{5\\%}=3\\tau$.\n",
    "Soit finalement $\\tau= 0.067$. et la focntion du transfert devient.\n",
    "\n",
    "$$\\mathbf{{F_{ref}}(s)} = \\frac{1}{1+0.067 s} $$"
   ]
  },
  {
   "cell_type": "markdown",
   "id": "a81f2685",
   "metadata": {},
   "source": [
    "### II-1-2 Calcul de K_p et T_d"
   ]
  },
  {
   "cell_type": "markdown",
   "id": "adb4d8a7",
   "metadata": {},
   "source": [
    "Pour le calcul de ce deux inconnues, commençant par calculer la fonction du transfert de notre système en boucle fermée.\n",
    "Remarquons d'abords que notre fonction du transfert du système initiale $\\mathbf{G(s)}$ peut se mettre sous cette forme:\n",
    "$$ \\mathbf{G(s)} = \\frac{0.5}{s(1+0.5s)}  $$ "
   ]
  },
  {
   "cell_type": "markdown",
   "id": "2c195346",
   "metadata": {},
   "source": [
    "et notre fonction du transfert en boucle fermée peut s'écrire maintenant:\n",
    "$$ \\mathbf{F(s)} = \\frac{C(s)G(s)}{1+C(s)G(s)}  $$ "
   ]
  },
  {
   "cell_type": "markdown",
   "id": "58cd7041",
   "metadata": {},
   "source": [
    "soit en remplaçant,\n",
    "$$ \\mathbf{F(s)} = \\frac{K_p(1+T_ds)\\frac{0.5}{s(1+0.5s)}}{1+K_p(1+T_ds)\\frac{0.5}{s(1+0.5s)}}  $$ "
   ]
  },
  {
   "cell_type": "markdown",
   "id": "38895da7",
   "metadata": {},
   "source": [
    "Pour se ramener à un système du premier ordre, on va compenser le pole en $p_1=-2$, ce qui équivaut à imposer $$1+T_ds=1+0.5s$$"
   ]
  },
  {
   "cell_type": "markdown",
   "id": "08ea3dd8",
   "metadata": {},
   "source": [
    "Aprés simplification, on obtien:\n",
    "$$ \\mathbf{F(s)} = \\frac{1}{1+\\frac{2}{K_p}s}  $$\n",
    "En imposant, $\\mathbf{F(s)} = \\mathbf{{F_{ref}}(s)}$, on aura :\n",
    "$$1+0.067s=1+\\frac{2}{K_p}s$$"
   ]
  },
  {
   "cell_type": "markdown",
   "id": "da360ef2",
   "metadata": {},
   "source": [
    "les deux équations $9$ et $7$, nous permettent de déduire les valeurs cherchées de $K_p=29.85$ et $T_d=0.5$"
   ]
  },
  {
   "cell_type": "markdown",
   "id": "de5f93e0",
   "metadata": {},
   "source": [
    "### II-1-3 Version finale de notre correcteur"
   ]
  },
  {
   "cell_type": "markdown",
   "id": "1bda44be",
   "metadata": {},
   "source": [
    "Le synthèse de notre corretceur PD, n'est pas fini, en fait le correcteur PD est irréalisable physiquement, puisque il n'est pas causale.\n",
    "Une solution consite à filtrer l'action dérivée avec un filtre passe-bas. Ca consite à l'ajout d'un pole, dont en prends le soin qu'il soit négligeable par rapport aux poles de la fonction du transfert en bouvle fermée. La forme de notre correcteur aura cette forme:\n",
    "$$\\mathbf{C(s)}=K_p(1+\\frac{T_ds}{1+\\frac{T_ds}{N}})$$ \n",
    "\n",
    "Avec: $N$ une constante de Filtrage, generalement choisi entre $5$ et $30$.\n",
    "Pour les imulatioons on fait le choix de $N=30$"
   ]
  },
  {
   "cell_type": "markdown",
   "id": "57e8ca7e",
   "metadata": {},
   "source": [
    "# III- Simulations \n",
    "## III -1 En boucle Ouvert"
   ]
  },
  {
   "cell_type": "code",
   "execution_count": 2,
   "id": "b1246843",
   "metadata": {},
   "outputs": [
    {
     "name": "stdout",
     "output_type": "stream",
     "text": [
      "\n",
      "g =\n",
      " \n",
      "      1\n",
      "  ---------\n",
      "  s^2 + 2 s\n",
      " \n",
      "Continuous-time transfer function.\n",
      "\n",
      "\n"
     ]
    }
   ],
   "source": [
    "g=tf([1],[1,2,0])"
   ]
  },
  {
   "cell_type": "code",
   "execution_count": 3,
   "id": "c862247b",
   "metadata": {},
   "outputs": [
    {
     "name": "stdout",
     "output_type": "stream",
     "text": [
      "\n"
     ]
    },
    {
     "data": {
      "image/png": "[encoded data removed]",
      "text/plain": [
       "<IPython.core.display.Image object>"
      ]
     },
     "metadata": {},
     "output_type": "display_data"
    }
   ],
   "source": [
    "t=0:0.1:10;\n",
    "y=step(g,t);\n",
    "plot(t,y)\n",
    "grid on"
   ]
  },
  {
   "cell_type": "markdown",
   "id": "a2f6c08a",
   "metadata": {},
   "source": [
    "## III-1 En boucle fermée"
   ]
  },
  {
   "cell_type": "markdown",
   "id": "80d55ddc",
   "metadata": {},
   "source": [
    "la fonction Matlab $pidstd$ permet d'obtenir le correcteur avec les parametres calculées. pour le $inf$ ça correspond à une valeur infini de la constante du temps de l'action intégrale. Ce qui marque l'abscence de cette action dans notre correcteur."
   ]
  },
  {
   "cell_type": "code",
   "execution_count": 4,
   "id": "3b13cc0b",
   "metadata": {},
   "outputs": [
    {
     "name": "stdout",
     "output_type": "stream",
     "text": [
      "\n",
      "PD =\n",
      " \n",
      "  925.4 s + 1791\n",
      "  --------------\n",
      "      s + 60\n",
      " \n",
      "Continuous-time transfer function.\n",
      "\n",
      "\n"
     ]
    }
   ],
   "source": [
    "PD = tf(pidstd(29.85,inf,0.5,30)) "
   ]
  },
  {
   "cell_type": "code",
   "execution_count": 5,
   "id": "1836a46a",
   "metadata": {},
   "outputs": [
    {
     "name": "stdout",
     "output_type": "stream",
     "text": [
      "\n",
      "f1 =\n",
      " \n",
      "         925.4 s^4 + 5.916e04 s^3 + 222084 s^2 + 214920 s\n",
      "  ---------------------------------------------------------------\n",
      "  s^6 + 124 s^5 + 5009 s^4 + 7.404e04 s^3 + 236484 s^2 + 214920 s\n",
      " \n",
      "Continuous-time transfer function.\n",
      "\n",
      "\n"
     ]
    }
   ],
   "source": [
    "f1=(PD*g)/(1+PD*g)"
   ]
  },
  {
   "cell_type": "code",
   "execution_count": 6,
   "id": "f7c0ced9",
   "metadata": {},
   "outputs": [
    {
     "name": "stdout",
     "output_type": "stream",
     "text": [
      "\n"
     ]
    },
    {
     "data": {
      "image/png": "[encoded data removed]",
      "text/plain": [
       "<IPython.core.display.Image object>"
      ]
     },
     "metadata": {},
     "output_type": "display_data"
    }
   ],
   "source": [
    "t=0:0.01:3;\n",
    "y=step(f1,t);\n",
    "plot(t,y)\n",
    "grid on"
   ]
  },
  {
   "cell_type": "code",
   "execution_count": 7,
   "id": "ce1750ec",
   "metadata": {},
   "outputs": [
    {
     "name": "stdout",
     "output_type": "stream",
     "text": [
      "S = \n",
      "  struct with fields:\n",
      "\n",
      "        RiseTime: 0.1092\n",
      "    SettlingTime: 0.1548\n",
      "     SettlingMin: 0.9016\n",
      "     SettlingMax: 0.9980\n",
      "       Overshoot: 0\n",
      "      Undershoot: 0\n",
      "            Peak: 0.9980\n",
      "        PeakTime: 0.4891\n",
      "\n"
     ]
    }
   ],
   "source": [
    "S = stepinfo(f1,'SettlingTimeThreshold',0.05)"
   ]
  },
  {
   "cell_type": "markdown",
   "id": "34e45c5b",
   "metadata": {},
   "source": [
    "# IV- Conclusion"
   ]
  },
  {
   "cell_type": "markdown",
   "id": "e80c0795",
   "metadata": {},
   "source": [
    "Avec un correcteur PD, on arrive à satisfaire le cahier de charge."
   ]
  }
 ],
 "metadata": {
  "kernelspec": {
   "display_name": "Matlab (Connection)",
   "language": "matlab",
   "name": "matlab_connect"
  },
  "language_info": {
   "codemirror_mode": "octave",
   "file_extension": ".m",
   "help_links": [
    {
     "text": "MetaKernel Magics",
     "url": "https://metakernel.readthedocs.io/en/latest/source/README.html"
    }
   ],
   "mimetype": "text/x-octave",
   "name": "matlab",
   "version": "0.17.1"
  },
  "latex_envs": {
   "LaTeX_envs_menu_present": true,
   "autoclose": true,
   "autocomplete": true,
   "bibliofile": "biblio.bib",
   "cite_by": "apalike",
   "current_citInitial": 1,
   "eqLabelWithNumbers": true,
   "eqNumInitial": 1,
   "hotkeys": {
    "equation": "Ctrl-E",
    "itemize": "Ctrl-I"
   },
   "labels_anchors": false,
   "latex_user_defs": false,
   "report_style_numbering": false,
   "user_envs_cfg": true
  }
 },
 "nbformat": 4,
 "nbformat_minor": 5
}
